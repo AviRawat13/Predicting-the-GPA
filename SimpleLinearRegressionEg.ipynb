{
  "nbformat": 4,
  "nbformat_minor": 0,
  "metadata": {
    "colab": {
      "provenance": [],
      "collapsed_sections": [],
      "toc_visible": true
    },
    "kernelspec": {
      "name": "python3",
      "display_name": "Python 3"
    },
    "language_info": {
      "name": "python"
    }
  },
  "cells": [
    {
      "cell_type": "markdown",
      "source": [
        "# **Importing the Libraries**"
      ],
      "metadata": {
        "id": "ZFF4IxeUPuM_"
      }
    },
    {
      "cell_type": "code",
      "source": [
        "import numpy as np\n",
        "import pandas as pd\n",
        "import matplotlib.pyplot as plt"
      ],
      "metadata": {
        "id": "ui4p-VLOPyiX"
      },
      "execution_count": 2,
      "outputs": []
    },
    {
      "cell_type": "markdown",
      "source": [
        "# **Importing the Dataset**"
      ],
      "metadata": {
        "id": "YiD_-6SoQBr_"
      }
    },
    {
      "cell_type": "code",
      "source": [
        "dataset = pd.read_csv('Simple linear regression.csv')\n",
        "x = dataset.iloc[:,:-1].values\n",
        "y = dataset.iloc[:,-1].values"
      ],
      "metadata": {
        "id": "bwmfDziLQFsU"
      },
      "execution_count": 6,
      "outputs": []
    },
    {
      "cell_type": "code",
      "source": [
        "print(x)"
      ],
      "metadata": {
        "colab": {
          "base_uri": "https://localhost:8080/"
        },
        "id": "07I23lxTQTKs",
        "outputId": "64ddcfe5-5d76-4e4c-cf3f-bc2cd1b04015"
      },
      "execution_count": 7,
      "outputs": [
        {
          "output_type": "stream",
          "name": "stdout",
          "text": [
            "[[1714]\n",
            " [1664]\n",
            " [1760]\n",
            " [1685]\n",
            " [1693]\n",
            " [1670]\n",
            " [1764]\n",
            " [1764]\n",
            " [1792]\n",
            " [1850]\n",
            " [1735]\n",
            " [1775]\n",
            " [1735]\n",
            " [1712]\n",
            " [1773]\n",
            " [1872]\n",
            " [1755]\n",
            " [1674]\n",
            " [1842]\n",
            " [1786]\n",
            " [1761]\n",
            " [1722]\n",
            " [1663]\n",
            " [1687]\n",
            " [1974]\n",
            " [1826]\n",
            " [1787]\n",
            " [1821]\n",
            " [2020]\n",
            " [1794]\n",
            " [1769]\n",
            " [1934]\n",
            " [1775]\n",
            " [1855]\n",
            " [1880]\n",
            " [1849]\n",
            " [1808]\n",
            " [1954]\n",
            " [1777]\n",
            " [1831]\n",
            " [1865]\n",
            " [1850]\n",
            " [1966]\n",
            " [1702]\n",
            " [1990]\n",
            " [1925]\n",
            " [1824]\n",
            " [1956]\n",
            " [1857]\n",
            " [1979]\n",
            " [1802]\n",
            " [1855]\n",
            " [1907]\n",
            " [1634]\n",
            " [1879]\n",
            " [1887]\n",
            " [1730]\n",
            " [1953]\n",
            " [1781]\n",
            " [1891]\n",
            " [1964]\n",
            " [1808]\n",
            " [1893]\n",
            " [2041]\n",
            " [1893]\n",
            " [1832]\n",
            " [1850]\n",
            " [1934]\n",
            " [1861]\n",
            " [1931]\n",
            " [1933]\n",
            " [1778]\n",
            " [1975]\n",
            " [1934]\n",
            " [2021]\n",
            " [2015]\n",
            " [1997]\n",
            " [2020]\n",
            " [1843]\n",
            " [1936]\n",
            " [1810]\n",
            " [1987]\n",
            " [1962]\n",
            " [2050]]\n"
          ]
        }
      ]
    },
    {
      "cell_type": "code",
      "source": [
        "print(y)"
      ],
      "metadata": {
        "colab": {
          "base_uri": "https://localhost:8080/"
        },
        "id": "X5MiP7bgRLtw",
        "outputId": "65fe9838-e323-4a93-fff7-1fd07bee85f2"
      },
      "execution_count": 8,
      "outputs": [
        {
          "output_type": "stream",
          "name": "stdout",
          "text": [
            "[2.4  2.52 2.54 2.74 2.83 2.91 3.   3.   3.01 3.01 3.02 3.07 3.08 3.08\n",
            " 3.12 3.17 3.17 3.17 3.17 3.19 3.19 3.19 3.2  3.21 3.24 3.28 3.28 3.28\n",
            " 3.28 3.28 3.28 3.28 3.29 3.29 3.29 3.31 3.32 3.34 3.37 3.37 3.37 3.38\n",
            " 3.38 3.39 3.39 3.4  3.4  3.4  3.41 3.41 3.41 3.42 3.42 3.42 3.44 3.47\n",
            " 3.47 3.47 3.47 3.48 3.49 3.49 3.5  3.51 3.51 3.52 3.52 3.54 3.58 3.58\n",
            " 3.59 3.59 3.6  3.6  3.61 3.62 3.64 3.65 3.71 3.71 3.71 3.73 3.76 3.81]\n"
          ]
        }
      ]
    },
    {
      "cell_type": "markdown",
      "source": [
        "# **Splitting the dataset into the training set and test set**"
      ],
      "metadata": {
        "id": "nsSTM4e1RXHy"
      }
    },
    {
      "cell_type": "code",
      "source": [
        "from sklearn.model_selection import train_test_split\n",
        "x_train, x_test, y_train, y_test = train_test_split(x, y, test_size = 0.2, random_state=0)"
      ],
      "metadata": {
        "id": "FZVtVmNuRei-"
      },
      "execution_count": 10,
      "outputs": []
    },
    {
      "cell_type": "markdown",
      "source": [
        "## Training the Simple Linear Regression model on the Training set\n"
      ],
      "metadata": {
        "id": "ceEy0OuYSYPM"
      }
    },
    {
      "cell_type": "code",
      "source": [
        "from sklearn.linear_model import LinearRegression\n",
        "regressor = LinearRegression()\n",
        "regressor.fit(x_train, y_train)"
      ],
      "metadata": {
        "colab": {
          "base_uri": "https://localhost:8080/"
        },
        "id": "pV8UEMC3Seo4",
        "outputId": "23e0f726-41c0-47ac-953f-87170d09139c"
      },
      "execution_count": 11,
      "outputs": [
        {
          "output_type": "execute_result",
          "data": {
            "text/plain": [
              "LinearRegression()"
            ]
          },
          "metadata": {},
          "execution_count": 11
        }
      ]
    },
    {
      "cell_type": "markdown",
      "source": [
        "## Predicting the Test set results"
      ],
      "metadata": {
        "id": "Tux8tLuITLVg"
      }
    },
    {
      "cell_type": "code",
      "source": [
        "y_pre = regressor.predict(x_test)\n",
        "y_pre"
      ],
      "metadata": {
        "colab": {
          "base_uri": "https://localhost:8080/"
        },
        "id": "PagV1hEOTMI3",
        "outputId": "ec38f779-f23a-439e-8c4b-7a2595173adb"
      },
      "execution_count": 17,
      "outputs": [
        {
          "output_type": "execute_result",
          "data": {
            "text/plain": [
              "array([3.19143271, 3.35562407, 3.07684082, 3.24787349, 3.01013808,\n",
              "       3.37956865, 3.17603977, 3.12472997, 3.22221859, 3.23077023,\n",
              "       3.46850564, 3.09394409, 3.32996917, 3.62072471, 3.16748814,\n",
              "       3.2803697 , 3.61217308])"
            ]
          },
          "metadata": {},
          "execution_count": 17
        }
      ]
    },
    {
      "cell_type": "markdown",
      "source": [
        "## Visualising the Training set results"
      ],
      "metadata": {
        "id": "bH1YZrDZT0y1"
      }
    },
    {
      "cell_type": "code",
      "source": [
        "plt.scatter(x_train,y_train,color='red')\n",
        "plt.plot(x_train,regressor.predict(x_train),color='blue')\n",
        "plt.title('Predicting the GPA')\n",
        "plt.xlabel('SAT')\n",
        "plt.ylabel('GPA')\n",
        "plt.show()"
      ],
      "metadata": {
        "colab": {
          "base_uri": "https://localhost:8080/",
          "height": 295
        },
        "id": "au-khc90T1N1",
        "outputId": "e99127a9-65b9-441f-aad7-d50b8abf4da2"
      },
      "execution_count": 18,
      "outputs": [
        {
          "output_type": "display_data",
          "data": {
            "text/plain": [
              "<Figure size 432x288 with 1 Axes>"
            ],
            "image/png": "[encoded data removed]"
          },
          "metadata": {
            "needs_background": "light"
          }
        }
      ]
    },
    {
      "cell_type": "markdown",
      "source": [
        "## Visualising the Test set results\n"
      ],
      "metadata": {
        "id": "_rN1ZXypUzZv"
      }
    },
    {
      "cell_type": "code",
      "source": [
        "plt.scatter(x_test,y_test,color = 'red')\n",
        "plt.plot(x_train,regressor.predict(x_train),color= 'blue')\n",
        "plt.title('Predicting the GPA')\n",
        "plt.xlabel('SAT')\n",
        "plt.ylabel('GPA')\n",
        "plt.show()"
      ],
      "metadata": {
        "colab": {
          "base_uri": "https://localhost:8080/",
          "height": 295
        },
        "id": "Kanx0gFoUzz2",
        "outputId": "762bb277-3a0b-426b-d9f5-2f16c4380ad2"
      },
      "execution_count": 23,
      "outputs": [
        {
          "output_type": "display_data",
          "data": {
            "text/plain": [
              "<Figure size 432x288 with 1 Axes>"
            ],
            "image/png": "[encoded data removed]"
          },
          "metadata": {
            "needs_background": "light"
          }
        }
      ]
    },
    {
      "cell_type": "code",
      "source": [],
      "metadata": {
        "id": "pcKt1_RUVTrd"
      },
      "execution_count": 23,
      "outputs": []
    },
    {
      "cell_type": "markdown",
      "source": [
        "##Making a Single Prediction (For Eg:- the GPA of the student with SAT of 2100 )\n",
        "\n",
        "\n"
      ],
      "metadata": {
        "id": "efXev1H6Vqli"
      }
    },
    {
      "cell_type": "code",
      "source": [
        "print(regressor.predict([[2100]]))"
      ],
      "metadata": {
        "colab": {
          "base_uri": "https://localhost:8080/"
        },
        "id": "e2kBKsq9WNsJ",
        "outputId": "bb8e9552-8534-4149-cc26-5debb69a2a87"
      },
      "execution_count": 24,
      "outputs": [
        {
          "output_type": "stream",
          "name": "stdout",
          "text": [
            "[3.75755085]\n"
          ]
        }
      ]
    },
    {
      "cell_type": "code",
      "source": [
        "print(regressor.predict([[1962]])) \n",
        "# 0.2 difference is coming ? orignal value -- 3.76"
      ],
      "metadata": {
        "colab": {
          "base_uri": "https://localhost:8080/"
        },
        "id": "YTz_NKsnWV39",
        "outputId": "28818456-86eb-4162-c164-977d07f1809c"
      },
      "execution_count": 25,
      "outputs": [
        {
          "output_type": "stream",
          "name": "stdout",
          "text": [
            "[3.52152576]\n"
          ]
        }
      ]
    },
    {
      "cell_type": "code",
      "source": [],
      "metadata": {
        "id": "j_Zsu_JrWdwg"
      },
      "execution_count": 25,
      "outputs": []
    }
  ]
}